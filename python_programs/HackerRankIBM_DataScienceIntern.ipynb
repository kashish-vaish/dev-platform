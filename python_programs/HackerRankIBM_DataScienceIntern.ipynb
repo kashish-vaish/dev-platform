{
  "nbformat": 4,
  "nbformat_minor": 0,
  "metadata": {
    "colab": {
      "provenance": [],
      "authorship_tag": "ABX9TyNA67Y1oEAPMi0T61W1UyGv",
      "include_colab_link": true
    },
    "kernelspec": {
      "name": "python3",
      "display_name": "Python 3"
    },
    "language_info": {
      "name": "python"
    }
  },
  "cells": [
    {
      "cell_type": "markdown",
      "metadata": {
        "id": "view-in-github",
        "colab_type": "text"
      },
      "source": [
        "<a href=\"https://colab.research.google.com/github/kashish-vaish/dev-platform/blob/main/python_programs/HackerRankIBM_DataScienceIntern.ipynb\" target=\"_parent\"><img src=\"https://colab.research.google.com/assets/colab-badge.svg\" alt=\"Open In Colab\"/></a>"
      ]
    },
    {
      "cell_type": "code",
      "execution_count": 30,
      "metadata": {
        "id": "rr0W0hwlbq3i"
      },
      "outputs": [],
      "source": [
        "baseFilename = \"sample_assess.txt\"\n",
        "c_list = []\n",
        "cpp_list = []\n",
        "cs_list = []\n",
        "c_filename = \"c_\" + baseFilename\n",
        "cpp_filename = \"cpp_\" + baseFilename\n",
        "cs_filename = \"cs_\" + baseFilename\n",
        "with open(baseFilename) as file:\n",
        "    for line in file:\n",
        "      ext = line.split(\".\")[1]\n",
        "      if(ext.strip()==\"c\"):\n",
        "        c_list.append(line.strip())\n",
        "      elif(ext.strip()==\"cpp\"):\n",
        "        cpp_list.append(line.strip())\n",
        "      elif(ext.strip()==\"cs\"):\n",
        "        cs_list.append(line.strip())\n",
        "file.close()\n",
        "\n",
        "with open(c_filename, 'w') as filewrite:\n",
        "    for item in c_list:\n",
        "        filewrite.write(\"%s\\n\" % item)\n",
        "\n",
        "with open(cpp_filename, 'w') as filewrite:\n",
        "    for item in cpp_list:\n",
        "        filewrite.write(\"%s\\n\" % item)\n",
        "\n",
        "with open(cs_filename, 'w') as filewrite:\n",
        "    for item in cs_list:\n",
        "        filewrite.write(\"%s\\n\" % item)"
      ]
    }
  ]
}